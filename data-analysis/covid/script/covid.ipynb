{
 "cells": [
  {
   "cell_type": "markdown",
   "metadata": {},
   "source": [
    "## Import Package"
   ]
  },
  {
   "cell_type": "code",
   "execution_count": null,
   "metadata": {},
   "outputs": [],
   "source": [
    "import pandas as pd"
   ]
  },
  {
   "cell_type": "markdown",
   "metadata": {},
   "source": [
    "## Import Data"
   ]
  },
  {
   "cell_type": "code",
   "execution_count": null,
   "metadata": {},
   "outputs": [],
   "source": [
    "data = pd.read_csv('E:\\\\Latihan\\project\\\\back-up data\\\\CSV Data Set\\\\covid-19\\\\owid-covid-data.csv')"
   ]
  },
  {
   "cell_type": "markdown",
   "metadata": {},
   "source": [
    "## Cleaning Data"
   ]
  },
  {
   "cell_type": "code",
   "execution_count": null,
   "metadata": {},
   "outputs": [],
   "source": [
    "columns_name = ['continent', 'location','date', 'new_cases', 'new_deaths', 'new_vaccinations', 'population']\n",
    "data_clear = data[data.columns.intersection(columns_name)] "
   ]
  },
  {
   "cell_type": "markdown",
   "metadata": {},
   "source": [
    "## Change Date Type to datetime64"
   ]
  },
  {
   "cell_type": "code",
   "execution_count": null,
   "metadata": {},
   "outputs": [],
   "source": [
    "data_clear.date = pd.to_datetime(data_clear.date)"
   ]
  },
  {
   "cell_type": "markdown",
   "metadata": {},
   "source": [
    "## Make Copy Data"
   ]
  },
  {
   "cell_type": "code",
   "execution_count": null,
   "metadata": {},
   "outputs": [],
   "source": [
    "data_monthly = data_clear.copy()\n",
    "data_yearly = data_clear.copy()"
   ]
  },
  {
   "cell_type": "markdown",
   "metadata": {},
   "source": [
    "## Change Periode Data"
   ]
  },
  {
   "cell_type": "code",
   "execution_count": null,
   "metadata": {},
   "outputs": [],
   "source": [
    "data_yearly.date = data_yearly.date.dt.to_period('2Y')\n",
    "data_monthly.date = data_monthly.date.dt.to_period('m')"
   ]
  },
  {
   "cell_type": "markdown",
   "metadata": {},
   "source": [
    "## Grouping Data By date"
   ]
  },
  {
   "cell_type": "code",
   "execution_count": null,
   "metadata": {},
   "outputs": [],
   "source": [
    "all1 = data_clear.groupby([pd.Grouper(key='continent')]).sum()\n",
    "all2 = data_clear.groupby([pd.Grouper(key='location')]).sum()\n",
    "\n",
    "monthly1 = data_monthly.groupby([pd.Grouper(key='continent'), pd.Grouper(key='date')]).sum()\n",
    "monthly2 = data_monthly.groupby([pd.Grouper(key='location'), pd.Grouper(key='date')]).sum()\n",
    "monthly3 = data_monthly.groupby([pd.Grouper(key='date')]).sum()\n",
    "\n",
    "yearly1 = data_yearly.groupby([pd.Grouper(key='continent'), pd.Grouper(key='date')]).sum()\n",
    "yearly2 = data_yearly.groupby([pd.Grouper(key='location'), pd.Grouper(key='date')]).sum()\n",
    "yearly3 = data_yearly.groupby([pd.Grouper(key='date')]).sum()"
   ]
  },
  {
   "cell_type": "markdown",
   "metadata": {},
   "source": [
    "## Sample Pick Data"
   ]
  },
  {
   "cell_type": "code",
   "execution_count": null,
   "metadata": {},
   "outputs": [],
   "source": [
    "yearly2"
   ]
  },
  {
   "cell_type": "markdown",
   "metadata": {},
   "source": [
    "## Eskport to CSV"
   ]
  },
  {
   "cell_type": "code",
   "execution_count": null,
   "metadata": {},
   "outputs": [],
   "source": [
    "all1.to_csv('covid_all_by_continent.csv', index=True)\n",
    "all2.to_csv('covid_all_by_location.csv', index=True)\n",
    "monthly1.to_csv('covid_by_continent_monthly.csv', index=True)\n",
    "monthly2.to_csv('covid_by_location_monthly.csv', index=True)\n",
    "monthly3.to_csv('covid_by_month.csv', index=True)\n",
    "yearly1.to_csv('covid_by_continent_yearly.csv', index=True)\n",
    "yearly2.to_csv('covid_by_location_yearly.csv', index=True)\n",
    "yearly3.to_csv('covid_by_year.csv', index=True)"
   ]
  }
 ],
 "metadata": {
  "kernelspec": {
   "display_name": "Python 3.11.0 ('env-project-1': venv)",
   "language": "python",
   "name": "python3"
  },
  "language_info": {
   "codemirror_mode": {
    "name": "ipython",
    "version": 3
   },
   "file_extension": ".py",
   "mimetype": "text/x-python",
   "name": "python",
   "nbconvert_exporter": "python",
   "pygments_lexer": "ipython3",
   "version": "3.11.0"
  },
  "orig_nbformat": 4,
  "vscode": {
   "interpreter": {
    "hash": "ca8ac95df458b3751b55a67ec7a65c425124bd05214b704e6fa518777857219a"
   }
  }
 },
 "nbformat": 4,
 "nbformat_minor": 2
}
